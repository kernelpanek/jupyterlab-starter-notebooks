{
 "cells": [
  {
   "cell_type": "markdown",
   "id": "59819edd-4577-462e-9a95-9d38aab792a0",
   "metadata": {},
   "source": [
    "## Simple Arithmetic Operators"
   ]
  },
  {
   "cell_type": "code",
   "execution_count": 3,
   "id": "72f5b272-5e3f-42f8-8b08-4190f7b0a80a",
   "metadata": {},
   "outputs": [
    {
     "data": {
      "text/plain": [
       "6"
      ]
     },
     "execution_count": 3,
     "metadata": {},
     "output_type": "execute_result"
    }
   ],
   "source": [
    "2 + 4"
   ]
  },
  {
   "cell_type": "code",
   "execution_count": 4,
   "id": "a0d19c8b-723a-4462-b847-e4b265618aa3",
   "metadata": {},
   "outputs": [
    {
     "data": {
      "text/plain": [
       "-2"
      ]
     },
     "execution_count": 4,
     "metadata": {},
     "output_type": "execute_result"
    }
   ],
   "source": [
    "2 - 4"
   ]
  },
  {
   "cell_type": "code",
   "execution_count": 5,
   "id": "156f5ec7-01b5-49ee-b636-a387b2472181",
   "metadata": {},
   "outputs": [
    {
     "data": {
      "text/plain": [
       "8"
      ]
     },
     "execution_count": 5,
     "metadata": {},
     "output_type": "execute_result"
    }
   ],
   "source": [
    "2 * 4"
   ]
  },
  {
   "cell_type": "code",
   "execution_count": 10,
   "id": "8ce38ed3-ed89-4c91-9f9e-4562e340d2e6",
   "metadata": {},
   "outputs": [
    {
     "data": {
      "text/plain": [
       "16"
      ]
     },
     "execution_count": 10,
     "metadata": {},
     "output_type": "execute_result"
    }
   ],
   "source": [
    "2 ** 4  # Exponential"
   ]
  },
  {
   "cell_type": "code",
   "execution_count": 6,
   "id": "89ba8f30-810a-4c15-83f7-48af31bdb932",
   "metadata": {},
   "outputs": [
    {
     "data": {
      "text/plain": [
       "0.5"
      ]
     },
     "execution_count": 6,
     "metadata": {},
     "output_type": "execute_result"
    }
   ],
   "source": [
    "2 / 4"
   ]
  },
  {
   "cell_type": "code",
   "execution_count": 9,
   "id": "e6ea6f43-5235-4390-8989-0aedec6290ed",
   "metadata": {},
   "outputs": [
    {
     "data": {
      "text/plain": [
       "1"
      ]
     },
     "execution_count": 9,
     "metadata": {},
     "output_type": "execute_result"
    }
   ],
   "source": [
    "9 // 5  # Floor division"
   ]
  },
  {
   "cell_type": "code",
   "execution_count": 11,
   "id": "a8be1551-7837-4f8b-aa55-8c53ae0da5ba",
   "metadata": {},
   "outputs": [
    {
     "data": {
      "text/plain": [
       "3"
      ]
     },
     "execution_count": 11,
     "metadata": {},
     "output_type": "execute_result"
    }
   ],
   "source": [
    "15 % 4  # Modulo"
   ]
  },
  {
   "cell_type": "markdown",
   "id": "f5f121f0-57a6-4c37-979f-6d541ef68c4a",
   "metadata": {},
   "source": [
    "## [The `math` module](https://docs.python.org/3/library/math.html)"
   ]
  },
  {
   "cell_type": "code",
   "execution_count": 2,
   "id": "5ec5581a-c808-4d56-9a7f-5371ef90f7a1",
   "metadata": {},
   "outputs": [],
   "source": [
    "import math"
   ]
  },
  {
   "cell_type": "code",
   "execution_count": 12,
   "id": "8bbf406c-2fc5-4590-b26c-7ab0ff387874",
   "metadata": {},
   "outputs": [
    {
     "data": {
      "text/plain": [
       "3.141592653589793"
      ]
     },
     "execution_count": 12,
     "metadata": {},
     "output_type": "execute_result"
    }
   ],
   "source": [
    "math.pi"
   ]
  },
  {
   "cell_type": "code",
   "execution_count": 13,
   "id": "8ad72afd-f739-457a-822f-ef2bd5682871",
   "metadata": {},
   "outputs": [
    {
     "data": {
      "text/plain": [
       "3.142"
      ]
     },
     "execution_count": 13,
     "metadata": {},
     "output_type": "execute_result"
    }
   ],
   "source": [
    "round(math.pi, 3)"
   ]
  },
  {
   "cell_type": "code",
   "execution_count": 14,
   "id": "490e0d67-3f8d-4617-927f-610da7d430ab",
   "metadata": {},
   "outputs": [
    {
     "data": {
      "text/plain": [
       "4"
      ]
     },
     "execution_count": 14,
     "metadata": {},
     "output_type": "execute_result"
    }
   ],
   "source": [
    "math.ceil(math.pi)"
   ]
  },
  {
   "cell_type": "code",
   "execution_count": 26,
   "id": "3b20bd9e-2423-44a2-b454-6ef7387a50d6",
   "metadata": {},
   "outputs": [
    {
     "data": {
      "text/plain": [
       "780.0"
      ]
     },
     "execution_count": 26,
     "metadata": {},
     "output_type": "execute_result"
    }
   ],
   "source": [
    "n = 40\n",
    "k = 2\n",
    "\n",
    "math.factorial(n) / (math.factorial(k) * math.factorial((n - k)))"
   ]
  },
  {
   "cell_type": "code",
   "execution_count": 18,
   "id": "3fd40b3c-c5e4-4c78-9ebf-ce4750e7c73b",
   "metadata": {},
   "outputs": [
    {
     "data": {
      "text/plain": [
       "780"
      ]
     },
     "execution_count": 18,
     "metadata": {},
     "output_type": "execute_result"
    }
   ],
   "source": [
    "math.comb(40, 2)"
   ]
  },
  {
   "cell_type": "code",
   "execution_count": 21,
   "id": "7db737ba-8dad-477f-8a7a-4411a4e4e786",
   "metadata": {},
   "outputs": [
    {
     "data": {
      "text/plain": [
       "3.141592653589793"
      ]
     },
     "execution_count": 21,
     "metadata": {},
     "output_type": "execute_result"
    }
   ],
   "source": [
    "math.fabs(math.pi)"
   ]
  },
  {
   "cell_type": "code",
   "execution_count": 23,
   "id": "bca6250b-20fe-4413-ac9a-506bd412fb7e",
   "metadata": {},
   "outputs": [
    {
     "data": {
      "text/plain": [
       "720"
      ]
     },
     "execution_count": 23,
     "metadata": {},
     "output_type": "execute_result"
    }
   ],
   "source": [
    "math.factorial(6)"
   ]
  },
  {
   "cell_type": "code",
   "execution_count": 24,
   "id": "5358c6ca-6954-4702-80a6-14cda7e53693",
   "metadata": {},
   "outputs": [
    {
     "data": {
      "text/plain": [
       "504.0"
      ]
     },
     "execution_count": 24,
     "metadata": {},
     "output_type": "execute_result"
    }
   ],
   "source": [
    "n = 9\n",
    "k = 3\n",
    "\n",
    "math.factorial(n) / math.factorial((n - k))"
   ]
  },
  {
   "cell_type": "code",
   "execution_count": 25,
   "id": "f3afc161-54b9-4627-a969-4cba0388c5c0",
   "metadata": {},
   "outputs": [
    {
     "data": {
      "text/plain": [
       "504"
      ]
     },
     "execution_count": 25,
     "metadata": {},
     "output_type": "execute_result"
    }
   ],
   "source": [
    "math.perm(9, 3)"
   ]
  },
  {
   "cell_type": "code",
   "execution_count": null,
   "id": "82b876d3-2836-41de-b77f-582221597f89",
   "metadata": {},
   "outputs": [],
   "source": []
  }
 ],
 "metadata": {
  "kernelspec": {
   "display_name": "Python 3 (ipykernel)",
   "language": "python",
   "name": "python3"
  },
  "language_info": {
   "codemirror_mode": {
    "name": "ipython",
    "version": 3
   },
   "file_extension": ".py",
   "mimetype": "text/x-python",
   "name": "python",
   "nbconvert_exporter": "python",
   "pygments_lexer": "ipython3",
   "version": "3.10.5"
  }
 },
 "nbformat": 4,
 "nbformat_minor": 5
}
