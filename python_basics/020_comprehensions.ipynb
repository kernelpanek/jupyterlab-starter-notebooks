{
 "cells": [
  {
   "cell_type": "markdown",
   "id": "af787c67-7900-4d90-b163-ac91691a5db8",
   "metadata": {},
   "source": [
    "# Comprehensions"
   ]
  },
  {
   "cell_type": "markdown",
   "id": "66215c0d-fc78-4589-9ddd-6159d4afbf9e",
   "metadata": {},
   "source": [
    "## List Comprehensions"
   ]
  },
  {
   "cell_type": "code",
   "execution_count": null,
   "id": "840e1068-1168-4c24-ba89-d0d9b6f17488",
   "metadata": {
    "tags": []
   },
   "outputs": [],
   "source": [
    "# The basic idea is make a for-loop into a single statement, but there's so much more\n",
    "# Make a list from 0 to 19\n",
    "[n for n in range(20)]"
   ]
  },
  {
   "cell_type": "code",
   "execution_count": null,
   "id": "dc63dfc8-f2cc-4da7-88f7-436095ae12a3",
   "metadata": {},
   "outputs": [],
   "source": [
    "# Get a list of numbers that are evenly divisible by 3 for numbers 0 to 60\n",
    "[n for n in range(60) if n % 3 == 0]"
   ]
  },
  {
   "cell_type": "code",
   "execution_count": null,
   "id": "38b00f3d-a49e-46fd-b92f-22c4e4cb5290",
   "metadata": {},
   "outputs": [],
   "source": [
    "# Make a list of dictionary objects\n",
    "[{\"num_value\": n, \"num_squared\": n ** 2} for n in range(60) if n % 3 == 0]"
   ]
  },
  {
   "cell_type": "markdown",
   "id": "692b53a3-4ef2-4d7e-8586-4b062aa4f0c8",
   "metadata": {},
   "source": [
    "### List Comprehension as an Iterator or Generator Expression"
   ]
  },
  {
   "cell_type": "code",
   "execution_count": null,
   "id": "4fca9e44-e693-46af-bf5a-085046c2b0f5",
   "metadata": {},
   "outputs": [],
   "source": [
    "({\"num_value\": n, \"num_squared\": n ** 2} for n in range(60) if n % 3 == 0)"
   ]
  },
  {
   "cell_type": "markdown",
   "id": "6d2e77ea-447f-4df1-8d43-a7a6843f895b",
   "metadata": {},
   "source": [
    "### Set Comprehensions"
   ]
  },
  {
   "cell_type": "code",
   "execution_count": null,
   "id": "95a80b1e-2520-4854-97d5-a328e8441a1f",
   "metadata": {},
   "outputs": [],
   "source": [
    "# There really is no such thing as a set comprehension, but you can call set() on a list comprension to get a set.\n",
    "# All the unique characters in the word, Mississippi\n",
    "set([letter for letter in \"Mississippi\"])"
   ]
  },
  {
   "cell_type": "markdown",
   "id": "9c035081-a3bb-4100-9086-6b05178df763",
   "metadata": {},
   "source": [
    "## Dictionary Comprehensions"
   ]
  },
  {
   "cell_type": "code",
   "execution_count": null,
   "id": "72d566e2-db04-4322-af46-2ca7fd43b459",
   "metadata": {},
   "outputs": [],
   "source": [
    "# List of tuples (name, age)\n",
    "names_and_ages = [(\"Nancy\", 23), (\"Kerri\", 51), (\"Marcus\", 38), (\"Skylar\", 31)]\n",
    "# Convert it into a dictionary\n",
    "ages = {x[0]: x[1] for x in names_and_ages}\n",
    "ages"
   ]
  },
  {
   "cell_type": "code",
   "execution_count": null,
   "id": "c4b3051c-62fe-4efc-bf1b-0b6827122d11",
   "metadata": {},
   "outputs": [],
   "source": [
    "# Rearrange existing dictionaries\n",
    "{age: name for name, age in ages.items()}"
   ]
  },
  {
   "cell_type": "code",
   "execution_count": null,
   "id": "a25d2877-8e28-463f-9610-1cc92dd834f6",
   "metadata": {},
   "outputs": [],
   "source": [
    "# Be careful with what you key off of for your dictionary comrehension, what happens if you had 2 people with the same age?\n",
    "ages.update({\"Tammy\": 23})\n",
    "ages"
   ]
  },
  {
   "cell_type": "code",
   "execution_count": null,
   "id": "31ec958e-9c28-4114-b367-64026715b54a",
   "metadata": {},
   "outputs": [],
   "source": [
    "{age: name for name, age in ages.items()} # What happened to Nancy?"
   ]
  },
  {
   "cell_type": "code",
   "execution_count": null,
   "id": "eddcc4e8-e0f0-446a-abc0-ab873b809997",
   "metadata": {},
   "outputs": [],
   "source": [
    "{name: age for name, age in ages.items() if age <= 40}"
   ]
  }
 ],
 "metadata": {
  "kernelspec": {
   "display_name": "Python 3 (ipykernel)",
   "language": "python",
   "name": "python3"
  },
  "language_info": {
   "codemirror_mode": {
    "name": "ipython",
    "version": 3
   },
   "file_extension": ".py",
   "mimetype": "text/x-python",
   "name": "python",
   "nbconvert_exporter": "python",
   "pygments_lexer": "ipython3",
   "version": "3.10.5"
  }
 },
 "nbformat": 4,
 "nbformat_minor": 5
}
