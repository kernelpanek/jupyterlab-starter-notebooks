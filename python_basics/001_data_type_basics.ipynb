{
 "cells": [
  {
   "cell_type": "markdown",
   "id": "bd9a8819-522b-4c5a-98d9-5fc8b76c14a4",
   "metadata": {},
   "source": [
    "# Data Types"
   ]
  },
  {
   "cell_type": "markdown",
   "id": "02e7dd17-4657-4f73-aadd-0037855031b7",
   "metadata": {},
   "source": [
    "### Boolean"
   ]
  },
  {
   "cell_type": "code",
   "execution_count": null,
   "id": "73eae2fd-ccb6-4b41-8bf5-6069ceeff9c8",
   "metadata": {},
   "outputs": [],
   "source": [
    "True"
   ]
  },
  {
   "cell_type": "code",
   "execution_count": null,
   "id": "24ffee04-ed50-45b4-bdeb-8fd67a91f834",
   "metadata": {},
   "outputs": [],
   "source": [
    "False"
   ]
  },
  {
   "cell_type": "markdown",
   "id": "28da70c2-8478-48db-89fc-8eb762ff8d25",
   "metadata": {},
   "source": [
    "### Integers"
   ]
  },
  {
   "cell_type": "code",
   "execution_count": null,
   "id": "93d601ed-9eb2-4af6-9c35-83bc191e6fe6",
   "metadata": {},
   "outputs": [],
   "source": [
    "348"
   ]
  },
  {
   "cell_type": "code",
   "execution_count": null,
   "id": "a5e7f469-00da-4c1c-97b2-6a8a7d492e53",
   "metadata": {},
   "outputs": [],
   "source": [
    "43_095  # Underscore is visual syntax candy to make number reading easier."
   ]
  },
  {
   "cell_type": "markdown",
   "id": "dd141714-01c0-421b-be47-3ac7a911c2f8",
   "metadata": {},
   "source": [
    "### Floats"
   ]
  },
  {
   "cell_type": "code",
   "execution_count": null,
   "id": "25afbb93-9caf-46ee-a4ad-282f24e50640",
   "metadata": {},
   "outputs": [],
   "source": [
    "3.14159"
   ]
  },
  {
   "cell_type": "code",
   "execution_count": null,
   "id": "d3500bb4-1999-441a-946d-3b12d3b92b9a",
   "metadata": {},
   "outputs": [],
   "source": [
    "2.71828"
   ]
  },
  {
   "cell_type": "markdown",
   "id": "1c18ab75-c3e9-4e9f-abf2-61e1cd11d863",
   "metadata": {},
   "source": [
    "### Complex Numbers"
   ]
  },
  {
   "cell_type": "code",
   "execution_count": null,
   "id": "72cf1e0b-743a-414d-9e21-e0c032a71fee",
   "metadata": {},
   "outputs": [],
   "source": [
    "complex(43, 3)"
   ]
  },
  {
   "cell_type": "code",
   "execution_count": null,
   "id": "9a260a60-29df-43fd-a29c-8e643d09c284",
   "metadata": {},
   "outputs": [],
   "source": [
    "complex(0,1)"
   ]
  },
  {
   "cell_type": "markdown",
   "id": "4fd14b06-5e0c-43b9-b961-6f8ddc60d903",
   "metadata": {},
   "source": [
    "### Strings"
   ]
  },
  {
   "cell_type": "code",
   "execution_count": null,
   "id": "1ed088d1-f719-4a9d-a843-d62b195e6011",
   "metadata": {},
   "outputs": [],
   "source": [
    "\"This is a literal Python string\""
   ]
  },
  {
   "cell_type": "code",
   "execution_count": null,
   "id": "42959dfa-d663-47ec-a466-2ccc3780e639",
   "metadata": {},
   "outputs": [],
   "source": [
    "'This is also a literal Python string'"
   ]
  },
  {
   "cell_type": "code",
   "execution_count": null,
   "id": "4b4b50b3-c627-4f01-8d04-156f7035baed",
   "metadata": {},
   "outputs": [],
   "source": [
    "\"\"\"So is this string, too!\"\"\""
   ]
  },
  {
   "cell_type": "markdown",
   "id": "59b9717c-bac2-4964-a8f2-b186198ae9ee",
   "metadata": {},
   "source": [
    "### Characters"
   ]
  },
  {
   "cell_type": "code",
   "execution_count": null,
   "id": "4cbb3c96-5008-41fc-b46a-6549ae548bf0",
   "metadata": {},
   "outputs": [],
   "source": [
    "chr(45)"
   ]
  },
  {
   "cell_type": "markdown",
   "id": "053f3dab-1cbf-471a-9277-25c69303e836",
   "metadata": {},
   "source": [
    "### Bytes and bytearray "
   ]
  },
  {
   "cell_type": "code",
   "execution_count": null,
   "id": "18441271-733d-42d0-bdfb-7273fc6a2222",
   "metadata": {},
   "outputs": [],
   "source": [
    "bytes(\"Hello There\".encode(\"utf-8\"))  # Immutable bytes type"
   ]
  },
  {
   "cell_type": "code",
   "execution_count": null,
   "id": "e4623425-3e1a-4dd8-a877-d30db233e990",
   "metadata": {},
   "outputs": [],
   "source": [
    "# An immutable bytes literal\n",
    "b\"Hello There\""
   ]
  },
  {
   "cell_type": "code",
   "execution_count": null,
   "id": "1c786b5d-d426-4196-b1d4-6dfad6abbfd8",
   "metadata": {},
   "outputs": [],
   "source": [
    "bytearray(\"Hello There\".encode(\"utf-8\"))  # This set of bytes is mutable."
   ]
  },
  {
   "cell_type": "markdown",
   "id": "7ce9f14b-968e-4024-adeb-2e32b944f768",
   "metadata": {
    "tags": []
   },
   "source": [
    "### Lists"
   ]
  },
  {
   "cell_type": "code",
   "execution_count": null,
   "id": "da0342ca-8a46-48b2-befb-92cd8d17879a",
   "metadata": {},
   "outputs": [],
   "source": [
    "[1, 3, 5, 7]"
   ]
  },
  {
   "cell_type": "code",
   "execution_count": null,
   "id": "f0034f5b-156e-451a-9c68-7ebf4dd4ea41",
   "metadata": {},
   "outputs": [],
   "source": [
    "[\"a\", \"b\", \"c\", \"d\"]"
   ]
  },
  {
   "cell_type": "code",
   "execution_count": null,
   "id": "7ead450d-8198-4e6a-8c5d-d6e2468d67e7",
   "metadata": {},
   "outputs": [],
   "source": [
    "[1, \"a\", complex(2.11, 6.3), True]"
   ]
  },
  {
   "cell_type": "markdown",
   "id": "05e987fd-baa8-4dc0-b167-10c952b181dc",
   "metadata": {},
   "source": [
    "### Tuples"
   ]
  },
  {
   "cell_type": "code",
   "execution_count": null,
   "id": "88e0c2db-7953-4991-8ab0-2a4ccd33abd2",
   "metadata": {},
   "outputs": [],
   "source": [
    "(\"Settings\", 9, \"Settings\", 13)"
   ]
  },
  {
   "cell_type": "code",
   "execution_count": null,
   "id": "b47321ef-e34a-4ba3-8c84-69474d45603c",
   "metadata": {},
   "outputs": [],
   "source": [
    "tuple((\"Options\", 8, \"Options\", 19))"
   ]
  },
  {
   "cell_type": "markdown",
   "id": "44e43d4b-3174-4993-ae15-89918faf9abc",
   "metadata": {
    "tags": []
   },
   "source": [
    "### Sets"
   ]
  },
  {
   "cell_type": "code",
   "execution_count": null,
   "id": "81edd6b4-e41d-4c8b-8a9c-5aa6257e82a6",
   "metadata": {},
   "outputs": [],
   "source": [
    "{'a', 'b', 'c', 'd'}"
   ]
  },
  {
   "cell_type": "code",
   "execution_count": null,
   "id": "1f553839-c66a-48c1-8b84-76694e98af3c",
   "metadata": {},
   "outputs": [],
   "source": [
    "{'a', 'a', 'b', 'c', 'd'}"
   ]
  },
  {
   "cell_type": "code",
   "execution_count": null,
   "id": "885d782b-80d6-485e-a6e0-ffbd1954c2b3",
   "metadata": {},
   "outputs": [],
   "source": [
    "set([\"a\", \"b\", \"c\", \"d\"])"
   ]
  },
  {
   "cell_type": "markdown",
   "id": "62df2e96-72b6-4c29-8a4e-c61769cdfab1",
   "metadata": {},
   "source": [
    "### Dictionaries"
   ]
  },
  {
   "cell_type": "code",
   "execution_count": null,
   "id": "2e35a551-9c77-4ef7-87cb-154595d6d56c",
   "metadata": {},
   "outputs": [],
   "source": [
    "{\"key\": \"value\", \"key2\": \"value2\"}"
   ]
  },
  {
   "cell_type": "code",
   "execution_count": null,
   "id": "5b3b3792-e05e-4c05-abf8-24966bf1cd8d",
   "metadata": {},
   "outputs": [],
   "source": [
    "dict(key3=\"value3\", key4=\"value4\")"
   ]
  }
 ],
 "metadata": {
  "kernelspec": {
   "display_name": "Python 3 (ipykernel)",
   "language": "python",
   "name": "python3"
  },
  "language_info": {
   "codemirror_mode": {
    "name": "ipython",
    "version": 3
   },
   "file_extension": ".py",
   "mimetype": "text/x-python",
   "name": "python",
   "nbconvert_exporter": "python",
   "pygments_lexer": "ipython3",
   "version": "3.10.4"
  }
 },
 "nbformat": 4,
 "nbformat_minor": 5
}
