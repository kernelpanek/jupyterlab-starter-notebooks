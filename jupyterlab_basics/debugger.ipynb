{
 "cells": [
  {
   "cell_type": "markdown",
   "id": "0d151100-3493-4cd9-8739-913ad8560e49",
   "metadata": {},
   "source": [
    "# Debugger Example"
   ]
  },
  {
   "cell_type": "code",
   "execution_count": null,
   "id": "1b5cedd7-a9e1-4d62-a7ed-fd75a98e0c79",
   "metadata": {},
   "outputs": [],
   "source": [
    "import rsa\n",
    "from base64 import b64encode, b64decode\n",
    "\n",
    "def enc_message(message, public_key):\n",
    "    encrypted_message = rsa.encrypt(message.encode(), public_key)\n",
    "    return encrypted_message\n",
    "\n",
    "def dec_message(encrypted_data, private_key):\n",
    "    decrypted_message = rsa.decrypt(encrypted_data, private_key).decode()\n",
    "    return decrypted_message"
   ]
  },
  {
   "cell_type": "code",
   "execution_count": null,
   "id": "9ea9dc14-b5cc-4761-ac7c-295dd43c79fc",
   "metadata": {},
   "outputs": [],
   "source": [
    "my_public_key, my_private_key = rsa.newkeys(2048)"
   ]
  },
  {
   "cell_type": "code",
   "execution_count": null,
   "id": "9339caa2-d5ec-4832-ac27-5577f34c3ec2",
   "metadata": {},
   "outputs": [],
   "source": [
    "message = \"This message needs to be encrypted and sent over an insecure transport.\"\n",
    "print(f\"original string: {message}\")"
   ]
  },
  {
   "cell_type": "code",
   "execution_count": null,
   "id": "938eb14f-d2a7-47c4-85ab-82210ac3c715",
   "metadata": {},
   "outputs": [],
   "source": [
    "encrypted_msg = enc_message(message, my_public_key)\n",
    "print(f\"encrypted string: {b64encode(encrypted_msg).decode()}\")"
   ]
  },
  {
   "cell_type": "code",
   "execution_count": null,
   "id": "9b6120f7-b668-4d16-a06d-d489bd890847",
   "metadata": {},
   "outputs": [],
   "source": [
    "decrypted_msg = dec_message(encrypted_msg, my_private_key)\n",
    "\n",
    "print(f\"decrypted string: {decrypted_msg}\")"
   ]
  },
  {
   "cell_type": "code",
   "execution_count": null,
   "id": "a87b23cf-7f5d-4bd9-9ce1-aef8665f1408",
   "metadata": {},
   "outputs": [],
   "source": [
    "encoded_enc_msg = b64encode(encrypted_msg).decode()\n",
    "encoded_enc_msg"
   ]
  },
  {
   "cell_type": "code",
   "execution_count": null,
   "id": "0f06794e-c9aa-4291-86a2-1f620feeb9a2",
   "metadata": {},
   "outputs": [],
   "source": [
    "decrypted_msg = dec_message(b64decode(encoded_enc_msg), my_private_key)\n",
    "\n",
    "print(f\"decrypted string: {decrypted_msg}\")"
   ]
  }
 ],
 "metadata": {
  "kernelspec": {
   "display_name": "Python 3 (ipykernel)",
   "language": "python",
   "name": "python3"
  },
  "language_info": {
   "codemirror_mode": {
    "name": "ipython",
    "version": 3
   },
   "file_extension": ".py",
   "mimetype": "text/x-python",
   "name": "python",
   "nbconvert_exporter": "python",
   "pygments_lexer": "ipython3",
   "version": "3.10.4"
  }
 },
 "nbformat": 4,
 "nbformat_minor": 5
}
