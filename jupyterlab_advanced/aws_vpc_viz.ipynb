{
 "cells": [
  {
   "cell_type": "code",
   "execution_count": null,
   "metadata": {
    "collapsed": false,
    "jupyter": {
     "outputs_hidden": false
    }
   },
   "outputs": [],
   "source": [
    "%run -i helper/default_logger.py\n",
    "%run -i helper/aws.py\n",
    "%run -i helper/aws_functions.py\n",
    "aws_ctx = await aws_connect(\n",
    "    profiles=[\"sandbox\", \"nirvana\"], regions=AWS_ALL_REGIONS, svc_include=[\"ec2\"]\n",
    ")\n",
    "\n",
    "import math\n",
    "from collections import defaultdict\n",
    "from concurrent.futures import ProcessPoolExecutor, as_completed\n",
    "from copy import deepcopy\n",
    "from itertools import cycle\n",
    "\n",
    "import bokeh\n",
    "import bokeh.colors\n",
    "import pandas as pd\n",
    "from bokeh.models import (\n",
    "    ColumnDataSource,\n",
    "    EdgesAndLinkedNodes,\n",
    "    GraphRenderer,\n",
    "    MultiLine,\n",
    "    NodesAndLinkedEdges,\n",
    "    Scatter,\n",
    "    StaticLayoutProvider,\n",
    ")\n",
    "from bokeh.palettes import Colorblind8, Spectral11\n",
    "from bokeh.plotting import figure, output_notebook, show\n",
    "from ipaddr import IPNetwork\n",
    "from perspective import PerspectiveWidget\n",
    "\n",
    "pd.set_option(\"display.max_rows\", 10000)\n",
    "pd.set_option(\"display.max_columns\", 100)\n",
    "output_notebook()"
   ]
  },
  {
   "cell_type": "code",
   "execution_count": null,
   "metadata": {
    "collapsed": false,
    "jupyter": {
     "outputs_hidden": false
    }
   },
   "outputs": [],
   "source": [
    "def get_data_for(ctx_obj, acct, region):\n",
    "    instances = [\n",
    "        instance\n",
    "        for reservation in retrieve_all_pages(\n",
    "            ctx_obj[acct][region][\"ec2\"], \"describe_instances\"\n",
    "        ).get(\"Reservations\")\n",
    "        for instance in reservation.get(\"Instances\")\n",
    "    ]\n",
    "    security_groups = retrieve_all_pages(\n",
    "        ctx_obj[acct][region][\"ec2\"], \"describe_security_groups\"\n",
    "    ).get(\"SecurityGroups\")\n",
    "    vpcs = retrieve_all_pages(ctx_obj[acct][region][\"ec2\"], \"describe_vpcs\").get(\"Vpcs\")\n",
    "    vpc_peers = retrieve_all_pages(\n",
    "        ctx_obj[acct][region][\"ec2\"], \"describe_vpc_peering_connections\"\n",
    "    ).get(\"VpcPeeringConnections\")\n",
    "    subnets = retrieve_all_pages(ctx_obj[acct][region][\"ec2\"], \"describe_subnets\").get(\n",
    "        \"Subnets\"\n",
    "    )\n",
    "\n",
    "    return dict(\n",
    "        instances=instances,\n",
    "        security_groups=security_groups,\n",
    "        vpcs=vpcs,\n",
    "        vpc_peers=vpc_peers,\n",
    "        subnets=subnets,\n",
    "    )"
   ]
  },
  {
   "cell_type": "code",
   "execution_count": null,
   "metadata": {
    "collapsed": false,
    "jupyter": {
     "outputs_hidden": false
    }
   },
   "outputs": [],
   "source": [
    "data = perform_aws_operations(aws_ctx, get_data_for)"
   ]
  },
  {
   "cell_type": "code",
   "execution_count": null,
   "metadata": {
    "collapsed": false,
    "jupyter": {
     "outputs_hidden": false
    }
   },
   "outputs": [],
   "source": [
    "[(acct, region) for acct, reg_ctx in aws_ctx.items() for region, ctx in reg_ctx.items()]"
   ]
  },
  {
   "cell_type": "markdown",
   "metadata": {
    "tags": []
   },
   "source": [
    "## Answer the following questions:\n",
    "- Which VPCs have how many active Ec2 instances?\n",
    "- Which VPC CIDRs conflict or overlap"
   ]
  },
  {
   "cell_type": "code",
   "execution_count": null,
   "metadata": {
    "collapsed": false,
    "jupyter": {
     "outputs_hidden": false
    }
   },
   "outputs": [],
   "source": [
    "all_active_instances = [\n",
    "    dict(acct=acct, region=region, **item)\n",
    "    for acct, reg_ctx in data.items()\n",
    "    for region, sections in reg_ctx.items()\n",
    "    for section, data_items in sections.items()\n",
    "    if section == \"instances\"\n",
    "    for item in data_items\n",
    "    if item.get(\"State\", {}).get(\"Code\") in [16, 80]\n",
    "]\n",
    "\n",
    "all_vpc_peers = [\n",
    "    dict(acct=acct, region=region, **item)\n",
    "    for acct, reg_ctx in data.items()\n",
    "    for region, sections in reg_ctx.items()\n",
    "    for section, data_items in sections.items()\n",
    "    if section == \"vpc_peers\"\n",
    "    for item in data_items\n",
    "    if item.get(\"Status\", {}).get(\"Code\") == \"active\"\n",
    "]\n",
    "\n",
    "reduced_peers = defaultdict(list)\n",
    "vpc_peer_id_pairs_unique = sorted(\n",
    "    set(\n",
    "        [\n",
    "            (\n",
    "                peer.get(\"AccepterVpcInfo\").get(\"VpcId\"),\n",
    "                peer.get(\"RequesterVpcInfo\").get(\"VpcId\"),\n",
    "            )\n",
    "            for peer in all_vpc_peers\n",
    "        ]\n",
    "    )\n",
    ")\n",
    "vpc_peer_id_pairs_reversed = [(pair[1], pair[0]) for pair in vpc_peer_id_pairs_unique]\n",
    "vpc_peer_id_pairs_all = vpc_peer_id_pairs_unique + vpc_peer_id_pairs_reversed\n",
    "\n",
    "for pair in vpc_peer_id_pairs_all:\n",
    "    reduced_peers[pair[0]].append(pair[1])\n",
    "\n",
    "# Calculate collisions\n",
    "table_data = [\n",
    "    dict(id=item.get(\"VpcId\"), acct=acct, region=region, cidr=item.get(\"CidrBlock\"))\n",
    "    for acct, reg_ctx in data.items()\n",
    "    for region, sections in reg_ctx.items()\n",
    "    for section, data_items in sections.items()\n",
    "    if section == \"vpcs\"\n",
    "    for item in data_items\n",
    "]\n",
    "table_copy = deepcopy(table_data)\n",
    "for network in table_data:\n",
    "    network.update(\n",
    "        dict(\n",
    "            collisions=[\n",
    "                n.get(\"id\")\n",
    "                for n in table_copy\n",
    "                if n != network\n",
    "                and IPNetwork(n.get(\"cidr\")).Contains(IPNetwork(network.get(\"cidr\")))\n",
    "            ],\n",
    "            peers=reduced_peers.get(network.get(\"id\"), []),\n",
    "            active_instance_count=len(\n",
    "                [i for i in all_active_instances if i.get(\"VpcId\") == network.get(\"id\")]\n",
    "            ),\n",
    "        )\n",
    "    )\n",
    "active_only_table_data = [n for n in table_data if n.get(\"active_instance_count\") > 0]\n",
    "\n",
    "collision_pairs = [\n",
    "    (network.get(\"id\"), collision)\n",
    "    for network in active_only_table_data\n",
    "    for collision in network.get(\"collisions\")\n",
    "]"
   ]
  },
  {
   "cell_type": "markdown",
   "metadata": {},
   "source": [
    "## Prepare Graph Layout and Show final data"
   ]
  },
  {
   "cell_type": "code",
   "execution_count": null,
   "metadata": {
    "tags": []
   },
   "outputs": [],
   "source": [
    "color_wheel = cycle(Spectral11 + Colorblind8)\n",
    "\n",
    "data_frame = pd.DataFrame(active_only_table_data)\n",
    "\n",
    "total_node_count = len(data_frame)\n",
    "enlarge_factor = total_node_count * 2.75\n",
    "circ = [i * 2 * math.pi / total_node_count for i in range(total_node_count)]\n",
    "x = [math.cos(i) * enlarge_factor for i in circ]\n",
    "y = [math.sin(i) * enlarge_factor for i in circ]\n",
    "data_frame[\"index\"] = data_frame[\"id\"]\n",
    "data_frame.set_index(\"id\", inplace=True)\n",
    "\n",
    "data_frame[\"x\"] = x\n",
    "data_frame[\"y\"] = y\n",
    "\n",
    "data_frame[\"size\"] = data_frame[\"active_instance_count\"].apply(\n",
    "    lambda x: 10 + (5 * math.log1p(x))\n",
    ")\n",
    "data_frame[\"node_color\"] = data_frame.apply(lambda _: next(color_wheel), axis=1)\n",
    "\n",
    "PerspectiveWidget(data_frame)"
   ]
  },
  {
   "cell_type": "markdown",
   "metadata": {},
   "source": [
    "## Graphing Existing Peers"
   ]
  },
  {
   "cell_type": "code",
   "execution_count": null,
   "metadata": {
    "collapsed": false,
    "jupyter": {
     "outputs_hidden": false
    }
   },
   "outputs": [],
   "source": [
    "data_source = ColumnDataSource(data_frame)\n",
    "\n",
    "hover_tips = [\n",
    "    (\"vpc_id\", \"@index\"),\n",
    "    (\"account\", \"@acct\"),\n",
    "    (\"region\", \"@region\"),\n",
    "    (\"CIDR\", \"@cidr\"),\n",
    "    (\"instances\", \"@active_instance_count\"),\n",
    "]\n",
    "p = figure(\n",
    "    plot_width=960,\n",
    "    plot_height=960,\n",
    "    toolbar_location=\"below\",\n",
    "    tooltips=hover_tips,\n",
    "    x_range=(-140.0, 140.0),\n",
    "    y_range=(-140.0, 140.0),\n",
    ")\n",
    "\n",
    "graph = GraphRenderer()\n",
    "graph.node_renderer.data_source.data = dict(data_source.data)\n",
    "graph.node_renderer.glyph = Scatter(\n",
    "    marker=\"square\", x=\"x\", y=\"y\", size=\"size\", fill_color=\"node_color\", fill_alpha=0.85\n",
    ")\n",
    "graph.node_renderer.selection_glyph = Scatter(\n",
    "    marker=\"square\", fill_alpha=0.85\n",
    ")  # x=\"x\", y=\"y\",\n",
    "graph.node_renderer.hover_glyph = Scatter(marker=\"square\", fill_alpha=0.75)\n",
    "\n",
    "graph.edge_renderer.data_source.data = dict(\n",
    "    start=[i[0] for i in vpc_peer_id_pairs_unique],\n",
    "    end=[i[1] for i in vpc_peer_id_pairs_unique],\n",
    ")\n",
    "graph.edge_renderer.glyph = MultiLine(\n",
    "    line_color=\"#CCCCCC\", line_alpha=0.5, line_width=5\n",
    ")\n",
    "graph.edge_renderer.selection_glyph = MultiLine(line_color=\"#777777\", line_width=5)\n",
    "graph.edge_renderer.hover_glyph = MultiLine(line_color=\"#7777FF\", line_width=5)\n",
    "\n",
    "graph_layout = {id: (item[\"x\"], item[\"y\"]) for id, item in data_frame.iterrows()}\n",
    "graph.layout_provider = StaticLayoutProvider(graph_layout=graph_layout)\n",
    "graph.selection_policy = NodesAndLinkedEdges()\n",
    "# graph.inspection_policy = EdgesAndLinkedNodes()\n",
    "p.renderers.append(graph)\n",
    "\n",
    "show(p)"
   ]
  },
  {
   "cell_type": "markdown",
   "metadata": {},
   "source": [
    "## Graphing Network Collisions"
   ]
  },
  {
   "cell_type": "code",
   "execution_count": null,
   "metadata": {
    "collapsed": false,
    "jupyter": {
     "outputs_hidden": false
    }
   },
   "outputs": [],
   "source": [
    "data_source = ColumnDataSource(data_frame)\n",
    "\n",
    "hover_tips = [\n",
    "    (\"vpc_id\", \"@index\"),\n",
    "    (\"account\", \"@acct\"),\n",
    "    (\"region\", \"@region\"),\n",
    "    (\"CIDR\", \"@cidr\"),\n",
    "    (\"instances\", \"@active_instance_count\"),\n",
    "]\n",
    "p = figure(\n",
    "    plot_width=960,\n",
    "    plot_height=960,\n",
    "    toolbar_location=\"below\",\n",
    "    tooltips=hover_tips,\n",
    "    x_range=(-140.0, 140.0),\n",
    "    y_range=(-140.0, 140.0),\n",
    ")\n",
    "\n",
    "graph = GraphRenderer()\n",
    "graph.node_renderer.data_source.data = dict(data_source.data)\n",
    "\n",
    "graph.node_renderer.glyph = Scatter(\n",
    "    marker=\"square\", x=\"x\", y=\"y\", size=\"size\", fill_color=\"node_color\", fill_alpha=0.99\n",
    ")\n",
    "graph.node_renderer.selection_glyph = Scatter(\n",
    "    marker=\"square\", fill_alpha=0.85\n",
    ")  # x=\"x\", y=\"y\",\n",
    "graph.node_renderer.hover_glyph = Scatter(marker=\"square\", fill_alpha=0.75)\n",
    "\n",
    "graph.edge_renderer.data_source.data = dict(\n",
    "    start=[collision_pair[0] for collision_pair in collision_pairs],\n",
    "    end=[collision_pair[1] for collision_pair in collision_pairs],\n",
    ")\n",
    "graph.edge_renderer.glyph = MultiLine(\n",
    "    line_color=\"#FF0000\", line_alpha=0.65, line_width=5\n",
    ")\n",
    "graph.edge_renderer.selection_glyph = MultiLine(line_color=\"#777777\", line_width=5)\n",
    "graph.edge_renderer.hover_glyph = MultiLine(line_color=\"#7777FF\", line_width=5)\n",
    "\n",
    "graph_layout = {id: (item[\"x\"], item[\"y\"]) for id, item in data_frame.iterrows()}\n",
    "graph.layout_provider = StaticLayoutProvider(graph_layout=graph_layout)\n",
    "graph.selection_policy = NodesAndLinkedEdges()\n",
    "# graph.inspection_policy = EdgesAndLinkedNodes()\n",
    "p.renderers.append(graph)\n",
    "\n",
    "show(p)"
   ]
  },
  {
   "cell_type": "code",
   "execution_count": null,
   "metadata": {},
   "outputs": [],
   "source": []
  }
 ],
 "metadata": {
  "kernelspec": {
   "display_name": "Python 3 (ipykernel)",
   "language": "python",
   "name": "python3"
  },
  "language_info": {
   "codemirror_mode": {
    "name": "ipython",
    "version": 3
   },
   "file_extension": ".py",
   "mimetype": "text/x-python",
   "name": "python",
   "nbconvert_exporter": "python",
   "pygments_lexer": "ipython3",
   "version": "3.10.4"
  }
 },
 "nbformat": 4,
 "nbformat_minor": 4
}
