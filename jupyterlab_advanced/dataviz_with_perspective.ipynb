{
 "cells": [
  {
   "cell_type": "code",
   "execution_count": null,
   "id": "34237fbe-41c3-44a5-8a44-02e99c84bca0",
   "metadata": {},
   "outputs": [],
   "source": [
    "import pandas as pd\n",
    "from perspective import PerspectiveWidget"
   ]
  },
  {
   "cell_type": "code",
   "execution_count": null,
   "id": "df227b46-aca6-4fee-9cd2-c7a7725126ca",
   "metadata": {},
   "outputs": [],
   "source": [
    "presidential_state_toplines_2020_df = pd.read_csv(\"https://projects.fivethirtyeight.com/2020-general-data/presidential_state_toplines_2020.csv\")"
   ]
  },
  {
   "cell_type": "code",
   "execution_count": null,
   "id": "ee0305d1-1a90-471d-ae4c-e63a3b8540c3",
   "metadata": {},
   "outputs": [],
   "source": [
    "PerspectiveWidget(presidential_state_toplines_2020_df)"
   ]
  },
  {
   "cell_type": "code",
   "execution_count": null,
   "id": "5656bdf2-44ae-4b6c-8062-fbc3e07579a6",
   "metadata": {},
   "outputs": [],
   "source": []
  }
 ],
 "metadata": {
  "kernelspec": {
   "display_name": "Python 3 (ipykernel)",
   "language": "python",
   "name": "python3"
  },
  "language_info": {
   "codemirror_mode": {
    "name": "ipython",
    "version": 3
   },
   "file_extension": ".py",
   "mimetype": "text/x-python",
   "name": "python",
   "nbconvert_exporter": "python",
   "pygments_lexer": "ipython3",
   "version": "3.10.5"
  }
 },
 "nbformat": 4,
 "nbformat_minor": 5
}
