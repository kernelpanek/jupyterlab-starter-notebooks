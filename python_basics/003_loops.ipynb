{
 "cells": [
  {
   "cell_type": "markdown",
   "id": "6c82d948-b16e-4036-9885-226b6986a357",
   "metadata": {},
   "source": [
    "# Looping"
   ]
  },
  {
   "cell_type": "markdown",
   "id": "b0f64d01-50cd-4474-ae8d-46c5b19e7ab3",
   "metadata": {},
   "source": [
    "### For loops"
   ]
  },
  {
   "cell_type": "code",
   "execution_count": null,
   "id": "ab468016-1948-48aa-b57c-b46fe8f4974b",
   "metadata": {},
   "outputs": [],
   "source": [
    "book_list = [\"Dune\", \"2001, A Space Odyssey\", \"Ender's Game\", \"Fahrenheit 451\", \"Foundation\", \"The Hitchhiker's Guide to the Galaxy\"]\n",
    "for book in book_list:\n",
    "    print(f\"Book title: {book}\")"
   ]
  },
  {
   "cell_type": "markdown",
   "id": "9c5ac70a-ecd9-42c5-94d3-998433255199",
   "metadata": {},
   "source": [
    "### Enumerating"
   ]
  },
  {
   "cell_type": "code",
   "execution_count": null,
   "id": "0958f59d-9676-40aa-8858-42d1a05ea975",
   "metadata": {},
   "outputs": [],
   "source": [
    "for i, book in enumerate(book_list):\n",
    "    print(f\"Book title #{i}: {book}\")"
   ]
  },
  {
   "cell_type": "markdown",
   "id": "02d6eebd-1a11-4da0-8bb3-9a76d6765926",
   "metadata": {},
   "source": [
    "### While loops"
   ]
  },
  {
   "cell_type": "code",
   "execution_count": null,
   "id": "09bc23ec-4c2c-45e0-bb3b-5dae0f767561",
   "metadata": {},
   "outputs": [],
   "source": [
    "tries = 10\n",
    "while tries >= 0:\n",
    "    print(f\"Try #{tries}\")\n",
    "    tries -= 1"
   ]
  },
  {
   "cell_type": "markdown",
   "id": "d9c1ea44-d953-4320-825b-ede96fea188f",
   "metadata": {},
   "source": [
    "### Break and continue"
   ]
  },
  {
   "cell_type": "code",
   "execution_count": null,
   "id": "f73f1fca-1c48-4756-81e9-664562fe7b6d",
   "metadata": {},
   "outputs": [],
   "source": [
    "for i in range(10):\n",
    "    if i % 2 == 0:\n",
    "        continue  # Skip this iteration\n",
    "    print(i)  # Only odd numbers will be printed"
   ]
  },
  {
   "cell_type": "code",
   "execution_count": null,
   "id": "0356aeb1-12ab-42c4-b8e3-d78e44fba5be",
   "metadata": {},
   "outputs": [],
   "source": [
    "def do_work(n):\n",
    "    if n < 5:\n",
    "        return True\n",
    "    return False\n",
    "\n",
    "n = 10\n",
    "while True:\n",
    "    print(f\"Trying #{n}\")\n",
    "    if do_work(n):\n",
    "        print(\"Stopping early...\")\n",
    "        break\n",
    "    n -= 1"
   ]
  }
 ],
 "metadata": {
  "kernelspec": {
   "display_name": "Python 3 (ipykernel)",
   "language": "python",
   "name": "python3"
  },
  "language_info": {
   "codemirror_mode": {
    "name": "ipython",
    "version": 3
   },
   "file_extension": ".py",
   "mimetype": "text/x-python",
   "name": "python",
   "nbconvert_exporter": "python",
   "pygments_lexer": "ipython3",
   "version": "3.10.5"
  }
 },
 "nbformat": 4,
 "nbformat_minor": 5
}
