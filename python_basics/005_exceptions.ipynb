{
 "cells": [
  {
   "cell_type": "markdown",
   "id": "8f5b56c6-ec67-41c1-86ab-f5554058eb41",
   "metadata": {
    "tags": []
   },
   "source": [
    "# Exception Handling"
   ]
  },
  {
   "cell_type": "markdown",
   "id": "59c8f407-4360-44ef-8fd4-436044cd9e91",
   "metadata": {},
   "source": [
    "### Simple function with no exception handling"
   ]
  },
  {
   "cell_type": "code",
   "execution_count": null,
   "id": "5de7831f-42fc-48d1-a3be-4078335a31ef",
   "metadata": {},
   "outputs": [],
   "source": [
    "def divide(numerator, denominator):\n",
    "    \"\"\"Returns division result\"\"\"\n",
    "    return numerator / denominator"
   ]
  },
  {
   "cell_type": "code",
   "execution_count": null,
   "id": "f0061325-2633-4a36-bc71-9ba4ececfaac",
   "metadata": {},
   "outputs": [],
   "source": [
    "divide(12, 4)"
   ]
  },
  {
   "cell_type": "code",
   "execution_count": null,
   "id": "fb8a0aa0-6965-447d-9860-6e8202e4a01a",
   "metadata": {},
   "outputs": [],
   "source": [
    "# This will error...\n",
    "divide(12, 0)"
   ]
  },
  {
   "cell_type": "markdown",
   "id": "427f819b-c5e2-4fed-b413-799523261c5c",
   "metadata": {},
   "source": [
    "### Simple function with exception handling"
   ]
  },
  {
   "cell_type": "code",
   "execution_count": null,
   "id": "7d19e59f-d77c-4f21-bd1c-cd3b31511201",
   "metadata": {},
   "outputs": [],
   "source": [
    "from math import inf\n",
    "\n",
    "def divide_safe(numerator, denominator):\n",
    "    \"\"\"Returns math.inf when denominator is `0`.\"\"\"\n",
    "    try:\n",
    "        return numerator / denominator\n",
    "    except ZeroDivisionError as zde:\n",
    "        return inf"
   ]
  },
  {
   "cell_type": "code",
   "execution_count": null,
   "id": "20fa2cb2-96c3-4e4c-bc43-807e5e9fed26",
   "metadata": {},
   "outputs": [],
   "source": [
    "divide_safe(14, 3)"
   ]
  },
  {
   "cell_type": "code",
   "execution_count": null,
   "id": "075ac449-f06f-4e79-a2a7-6c58205af4a8",
   "metadata": {},
   "outputs": [],
   "source": [
    "divide_safe(14, 0)"
   ]
  },
  {
   "cell_type": "markdown",
   "id": "40612785-83c9-4a7f-8d56-ba11f4acc306",
   "metadata": {},
   "source": [
    "### Using `finally`"
   ]
  },
  {
   "cell_type": "code",
   "execution_count": null,
   "id": "03983f56-63fd-4386-9416-0fef58e68f65",
   "metadata": {},
   "outputs": [],
   "source": [
    "def make_database_call_good(query):\n",
    "    \"\"\"Fake function that is good\"\"\"\n",
    "    try:\n",
    "        db = postgresql_db.open()\n",
    "        query_result = db.call(query)\n",
    "        db.close_connection()\n",
    "        return query_result\n",
    "    except DBError as dbe:\n",
    "        # If exception occurs,\n",
    "        #  we might leave the db connection open and dangling.\n",
    "        logger.exception(f\"Database error occurred: {dbe}\")\n",
    "\n",
    "def make_database_call_better(query):\n",
    "    \"\"\"Fake function that is better\"\"\"\n",
    "    try:\n",
    "        db = postgresql_db.open()  # Open a connection to the database\n",
    "        query_result = db.call(query)\n",
    "        db.close_connection()  # Close db connection\n",
    "        return query_result\n",
    "    except DBError as dbe:\n",
    "        logger.exception(f\"Database error occurred: {dbe}\")\n",
    "        # Close db connection again, but code duplication is not good.\n",
    "        #  There's a better way...\n",
    "        db.close_connection()\n",
    "\n",
    "\n",
    "def make_database_call_best(query):\n",
    "    \"\"\"Fake function just for demonstrating `finally`\"\"\"\n",
    "    query_result = None\n",
    "    try:\n",
    "        db = postgresql_db.open()  # Open a connection to the database\n",
    "        query_result = db.call(query)\n",
    "    except DBError as dbe:\n",
    "        logger.exception(f\"Database error occurred: {dbe}\")\n",
    "    finally:\n",
    "        # `finally` is always called after the try block whether an exception occurs or not,\n",
    "        #  guaranteeing the db connection is always closed.\n",
    "        db.close_connection()\n",
    "    return query_result"
   ]
  }
 ],
 "metadata": {
  "kernelspec": {
   "display_name": "Python 3 (ipykernel)",
   "language": "python",
   "name": "python3"
  },
  "language_info": {
   "codemirror_mode": {
    "name": "ipython",
    "version": 3
   },
   "file_extension": ".py",
   "mimetype": "text/x-python",
   "name": "python",
   "nbconvert_exporter": "python",
   "pygments_lexer": "ipython3",
   "version": "3.10.4"
  }
 },
 "nbformat": 4,
 "nbformat_minor": 5
}
