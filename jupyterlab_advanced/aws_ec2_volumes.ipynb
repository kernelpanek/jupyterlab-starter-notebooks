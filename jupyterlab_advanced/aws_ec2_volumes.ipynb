{
 "cells": [
  {
   "cell_type": "code",
   "execution_count": null,
   "id": "6759997c-519b-49e6-97c4-d286c178ac92",
   "metadata": {},
   "outputs": [],
   "source": [
    "import json\n",
    "from pathlib import Path\n",
    "\n",
    "%run -i /notebooks/helper/aws.py\n",
    "%run -i /notebooks/helper/aws_functions.py\n",
    "aws_ctx = await aws_connect(\n",
    "  profiles=[\n",
    "    \"prod\",\n",
    "  ],\n",
    "  regions=[\n",
    "    \"us-east-1\",\n",
    "    \"us-west-1\",\n",
    "    \"ca-central-1\",\n",
    "    \"eu-west-1\",\n",
    "    \"eu-west-2\",\n",
    "    \"eu-central-1\",\n",
    "    \"ap-southeast-2\",\n",
    "  ],\n",
    "  svc_include=[\n",
    "    \"ec2\",\n",
    "  ],\n",
    ")"
   ]
  },
  {
   "cell_type": "code",
   "execution_count": null,
   "id": "0e3275ad-4fcb-449e-904a-0e3c678e9fe9",
   "metadata": {},
   "outputs": [],
   "source": [
    "def get_volume_data(aws_ctx_obj, acct, region):\n",
    "    print(f\"Waiting on data from {acct}/{region}\")\n",
    "    volumes = retrieve_all_pages(aws_ctx_obj[acct][region][\"ec2\"], \"describe_volumes\").get(\"Volumes\", [])\n",
    "    print(f\" - Picked up data from {acct}/{region}\")\n",
    "    return dict(volumes=volumes)"
   ]
  },
  {
   "cell_type": "code",
   "execution_count": null,
   "id": "8383e9aa-5ea7-4070-9b6f-b824508728e8",
   "metadata": {},
   "outputs": [],
   "source": [
    "all_ec2_volumes = perform_aws_operations(aws_ctx, get_volume_data)"
   ]
  },
  {
   "cell_type": "code",
   "execution_count": null,
   "id": "56491e10-9233-40f3-9e69-380931fc84b1",
   "metadata": {},
   "outputs": [],
   "source": [
    "all_volumes = [{\"Account\": acct, \"Region\": reg_name, **vol} \n",
    "               for acct, reg_dict in all_ec2_volumes.items() \n",
    "               for reg_name, volumes in reg_dict.items() \n",
    "               for vol, volume_list in volumes.items()\n",
    "               for vol in volume_list]\n",
    "total_volume_count = len(all_volumes)\n",
    "total_volume_count"
   ]
  },
  {
   "cell_type": "code",
   "execution_count": null,
   "id": "96f7c621-92b6-4e13-9a2f-fb1b5d224dcd",
   "metadata": {},
   "outputs": [],
   "source": [
    "sum([v.get(\"Size\") for v in all_volumes])"
   ]
  },
  {
   "cell_type": "code",
   "execution_count": null,
   "id": "67822ff1-0389-4d5b-8655-e8934ef428f9",
   "metadata": {},
   "outputs": [],
   "source": []
  }
 ],
 "metadata": {
  "kernelspec": {
   "display_name": "Python 3 (ipykernel)",
   "language": "python",
   "name": "python3"
  },
  "language_info": {
   "codemirror_mode": {
    "name": "ipython",
    "version": 3
   },
   "file_extension": ".py",
   "mimetype": "text/x-python",
   "name": "python",
   "nbconvert_exporter": "python",
   "pygments_lexer": "ipython3",
   "version": "3.10.5"
  }
 },
 "nbformat": 4,
 "nbformat_minor": 5
}
