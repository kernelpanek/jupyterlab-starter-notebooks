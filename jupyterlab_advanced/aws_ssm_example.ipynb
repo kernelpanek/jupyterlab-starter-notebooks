{
 "cells": [
  {
   "cell_type": "code",
   "execution_count": null,
   "id": "013a0918-01b9-4ded-810b-c06d7c733e5c",
   "metadata": {},
   "outputs": [],
   "source": [
    "from IPython.display import display, HTML\n",
    "\n",
    "%run -i /notebooks/helper/aws.py\n",
    "%run -i /notebooks/helper/aws_functions.py\n",
    "aws_ctx = await aws_connect(\n",
    "    profiles=[\n",
    "        \"sandbox\",\n",
    "    ],\n",
    "    regions=[\n",
    "        \"us-east-1\",\n",
    "    ],\n",
    "    svc_include=[\n",
    "        \"ssm\",\n",
    "    ],\n",
    ")\n",
    "\n",
    "\n",
    "def get_all_env_parameters(ssm_client, env_id):\n",
    "    pager = ssm_client.get_paginator(\"get_parameters_by_path\")\n",
    "    params_response = pager.paginate(\n",
    "        Path=f\"/DGC/{env_id}\", Recursive=True\n",
    "    ).build_full_result()\n",
    "    env_parameters = params_response.get(\"Parameters\")\n",
    "    decrypted_env_params = {\n",
    "        param.get(\"Name\"): ssm_client.get_parameter(\n",
    "            Name=param.get(\"Name\"), WithDecryption=True\n",
    "        )\n",
    "        .get(\"Parameter\", {})\n",
    "        .get(\"Value\")\n",
    "        for param in env_parameters\n",
    "    }\n",
    "    return decrypted_env_params"
   ]
  },
  {
   "cell_type": "code",
   "execution_count": null,
   "id": "47d5f3df-bf4e-4cfc-8c27-c860eef0f8f1",
   "metadata": {},
   "outputs": [],
   "source": [
    "env_params = get_all_env_parameters(aws_ctx.sandbox.us_east_1.ssm, \"1b3f969e-ed7c-5240-8a89-6ed164defe8e\")"
   ]
  },
  {
   "cell_type": "code",
   "execution_count": null,
   "id": "03f9af92-62de-4f54-a74f-3f2f3b1beb78",
   "metadata": {},
   "outputs": [],
   "source": [
    "html_src = \"\"\n",
    "for name, value in env_params.items():\n",
    "    html_src += f\"<h4>{name}</h4><div>{value}</div>\"\n",
    "display(HTML(html_src))"
   ]
  },
  {
   "cell_type": "code",
   "execution_count": null,
   "id": "49476bf2-d1dd-4b21-8fc5-c9ddcb3a4fcd",
   "metadata": {},
   "outputs": [],
   "source": []
  }
 ],
 "metadata": {
  "kernelspec": {
   "display_name": "Python 3 (ipykernel)",
   "language": "python",
   "name": "python3"
  },
  "language_info": {
   "codemirror_mode": {
    "name": "ipython",
    "version": 3
   },
   "file_extension": ".py",
   "mimetype": "text/x-python",
   "name": "python",
   "nbconvert_exporter": "python",
   "pygments_lexer": "ipython3",
   "version": "3.10.5"
  }
 },
 "nbformat": 4,
 "nbformat_minor": 5
}
