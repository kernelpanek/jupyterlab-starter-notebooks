{
 "cells": [
  {
   "cell_type": "markdown",
   "id": "9d3237d5-3dca-4069-9460-f80139b8fcf3",
   "metadata": {
    "tags": []
   },
   "source": [
    "# Conditionals"
   ]
  },
  {
   "cell_type": "markdown",
   "id": "8afb0e30-9286-483b-9a55-73006f0f280e",
   "metadata": {},
   "source": [
    "### Logic operators"
   ]
  },
  {
   "cell_type": "code",
   "execution_count": null,
   "id": "c6749493-efc7-4bf4-9391-a466673fd392",
   "metadata": {},
   "outputs": [],
   "source": [
    "True"
   ]
  },
  {
   "cell_type": "code",
   "execution_count": null,
   "id": "4fb4eec6-c6a3-4552-bb0a-bf30b2176c06",
   "metadata": {},
   "outputs": [],
   "source": [
    "False"
   ]
  },
  {
   "cell_type": "code",
   "execution_count": null,
   "id": "9dacbf64-d0d6-4f6a-94c6-76f68399f16e",
   "metadata": {},
   "outputs": [],
   "source": [
    "not True"
   ]
  },
  {
   "cell_type": "code",
   "execution_count": null,
   "id": "7fc48b58-d0f5-4341-9518-ca5a2c1cf92a",
   "metadata": {},
   "outputs": [],
   "source": [
    "not False"
   ]
  },
  {
   "cell_type": "code",
   "execution_count": null,
   "id": "67ba13db-8a27-48e3-a121-de2a78d7e9b7",
   "metadata": {},
   "outputs": [],
   "source": [
    "True and True"
   ]
  },
  {
   "cell_type": "code",
   "execution_count": null,
   "id": "f36ae7be-534b-435f-842d-9f236ad97ac3",
   "metadata": {},
   "outputs": [],
   "source": [
    "True and False"
   ]
  },
  {
   "cell_type": "code",
   "execution_count": null,
   "id": "00ee4063-9302-4bec-a25e-9622e0752a3a",
   "metadata": {},
   "outputs": [],
   "source": [
    "False and False"
   ]
  },
  {
   "cell_type": "code",
   "execution_count": null,
   "id": "1037e3f0-38d0-4681-b328-9497a80e8562",
   "metadata": {},
   "outputs": [],
   "source": [
    "True or True"
   ]
  },
  {
   "cell_type": "code",
   "execution_count": null,
   "id": "396613c6-5a3e-4bfd-b99a-0eb3972ca0eb",
   "metadata": {},
   "outputs": [],
   "source": [
    "True or False"
   ]
  },
  {
   "cell_type": "code",
   "execution_count": null,
   "id": "08991b72-e835-4552-9c6e-4f304af2300b",
   "metadata": {},
   "outputs": [],
   "source": [
    "False or False"
   ]
  },
  {
   "cell_type": "markdown",
   "id": "b70c437a-1c27-4618-823e-71781c20411f",
   "metadata": {},
   "source": [
    "### Standard `if` statement"
   ]
  },
  {
   "cell_type": "code",
   "execution_count": null,
   "id": "6aa1cb0f-3e55-4896-a554-49baf6900341",
   "metadata": {},
   "outputs": [],
   "source": [
    "has_hidef = True\n",
    "has_dolby = False\n",
    "if has_hidef and has_dolby:\n",
    "    print(\"Your viewing experience is good.\")\n",
    "else:\n",
    "    print(\"Your viewing experience will be degraded\")"
   ]
  },
  {
   "cell_type": "code",
   "execution_count": null,
   "id": "bc771105-532f-404e-901b-3113ed196e31",
   "metadata": {},
   "outputs": [],
   "source": [
    "if has_hidef and has_dolby:\n",
    "    print(\"Your viewing experience is good.\")\n",
    "elif has_hidef and not has_dolby:\n",
    "    print(\"Visuals will be enhanced, but audio will be degraded.\")\n",
    "else:\n",
    "    print(\"Your viewing experience will be degraded\")"
   ]
  },
  {
   "cell_type": "markdown",
   "id": "74cf69ec-0afe-4bff-bbe1-c7c8c2088fef",
   "metadata": {},
   "source": [
    "### Inline `if` statement"
   ]
  },
  {
   "cell_type": "code",
   "execution_count": null,
   "id": "60489fe3-8d9d-4e4b-bcba-299a2fac6812",
   "metadata": {},
   "outputs": [],
   "source": [
    "experience = \"excellent\" if has_hidef and has_dolby else \"average\"\n",
    "print(f\"You will have an {experience} viewing experience\")"
   ]
  },
  {
   "cell_type": "code",
   "execution_count": null,
   "id": "1064c956-9b73-404c-86b3-ddccab289a25",
   "metadata": {},
   "outputs": [],
   "source": [
    "has_hidef = True\n",
    "has_dolby = True\n",
    "experience = \"excellent\" if has_hidef and has_dolby else \"average\"\n",
    "print(f\"You will have an {experience} viewing experience\")"
   ]
  }
 ],
 "metadata": {
  "kernelspec": {
   "display_name": "Python 3 (ipykernel)",
   "language": "python",
   "name": "python3"
  },
  "language_info": {
   "codemirror_mode": {
    "name": "ipython",
    "version": 3
   },
   "file_extension": ".py",
   "mimetype": "text/x-python",
   "name": "python",
   "nbconvert_exporter": "python",
   "pygments_lexer": "ipython3",
   "version": "3.10.4"
  }
 },
 "nbformat": 4,
 "nbformat_minor": 5
}
