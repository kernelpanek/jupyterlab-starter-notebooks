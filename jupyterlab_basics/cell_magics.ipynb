{
 "cells": [
  {
   "cell_type": "markdown",
   "id": "54fed794-b793-4d78-a9c8-f8d284fb14c3",
   "metadata": {},
   "source": [
    "# Cell Magics"
   ]
  },
  {
   "cell_type": "markdown",
   "id": "e7e6bd12-45e4-4f0f-a69f-104d0c909e1a",
   "metadata": {},
   "source": [
    "## List All Available Magic Commands"
   ]
  },
  {
   "cell_type": "code",
   "execution_count": null,
   "id": "caa73941-446a-4e43-a591-2b1cd42cef61",
   "metadata": {
    "tags": []
   },
   "outputs": [],
   "source": [
    "%lsmagic"
   ]
  },
  {
   "cell_type": "markdown",
   "id": "0cdea147-9e2b-4a55-9577-52b3a9944390",
   "metadata": {},
   "source": [
    "## Turn on logging"
   ]
  },
  {
   "cell_type": "code",
   "execution_count": null,
   "id": "37326eb5-0402-459c-88a6-e9e1f66128e5",
   "metadata": {},
   "outputs": [],
   "source": [
    "%logstate"
   ]
  },
  {
   "cell_type": "code",
   "execution_count": null,
   "id": "5e85e5d6-996e-46a2-a98b-d5424fff7bbb",
   "metadata": {},
   "outputs": [],
   "source": [
    "%logstart"
   ]
  },
  {
   "cell_type": "code",
   "execution_count": null,
   "id": "3ef2cc1f-9212-4c6d-9dfb-6832cb41d098",
   "metadata": {},
   "outputs": [],
   "source": [
    "%logoff"
   ]
  },
  {
   "cell_type": "markdown",
   "id": "ffead31d-200b-4ac9-bba0-9d39202e5f16",
   "metadata": {},
   "source": [
    "## Get a quick reference to Jupyter"
   ]
  },
  {
   "cell_type": "code",
   "execution_count": null,
   "id": "9b43f138-650a-411a-bbcb-39c7a0256cb6",
   "metadata": {
    "tags": []
   },
   "outputs": [],
   "source": [
    "%quickref"
   ]
  },
  {
   "cell_type": "markdown",
   "id": "b74509ba-4382-42f8-8ed7-a43e83f38744",
   "metadata": {},
   "source": [
    "## Time your code"
   ]
  },
  {
   "cell_type": "code",
   "execution_count": null,
   "id": "6005ef36-02e8-42ed-814d-7a685412fc91",
   "metadata": {},
   "outputs": [],
   "source": [
    "def slow():\n",
    "    return [n for n in range(1_000_000)]\n",
    "\n",
    "def fast():\n",
    "    return (n for n in range(1_000_000))"
   ]
  },
  {
   "cell_type": "code",
   "execution_count": null,
   "id": "e48f92cf-f66d-4ee9-85e4-40268193b18f",
   "metadata": {},
   "outputs": [],
   "source": [
    "%%timeit\n",
    "slow()"
   ]
  },
  {
   "cell_type": "code",
   "execution_count": null,
   "id": "abbf8f2c-1344-4d7b-a15a-95bacf1f9641",
   "metadata": {},
   "outputs": [],
   "source": [
    "%%timeit\n",
    "fast()"
   ]
  },
  {
   "cell_type": "markdown",
   "id": "5f4cdbb6-0315-4bda-9bae-6641b9d1eb04",
   "metadata": {},
   "source": [
    "## Run a shell command"
   ]
  },
  {
   "cell_type": "code",
   "execution_count": null,
   "id": "010498dd-fb41-48f4-bc97-62d67202c186",
   "metadata": {},
   "outputs": [],
   "source": [
    "!ls -algh /var/log"
   ]
  },
  {
   "cell_type": "code",
   "execution_count": null,
   "id": "842b568f-9ab6-46e8-a9d2-2be4984c1a98",
   "metadata": {},
   "outputs": [],
   "source": [
    "!jupyter labextension list"
   ]
  },
  {
   "cell_type": "markdown",
   "id": "501c1956-a37b-4789-8afb-fdd48d3dfb60",
   "metadata": {},
   "source": [
    "## Execute arbitrary Javascript in the Notebook"
   ]
  },
  {
   "cell_type": "code",
   "execution_count": null,
   "id": "1f59b1fe-39aa-4647-9ba5-921a9a8e3c6d",
   "metadata": {},
   "outputs": [],
   "source": [
    "%%javascript\n",
    "const baseValue = prompt('Enter the base of a triangle: ');\n",
    "const heightValue = prompt('Enter the height of a triangle: ');\n",
    "\n",
    "// calculate the area\n",
    "const areaValue = (baseValue * heightValue) / 2;\n",
    "\n",
    "alert(`Area of your triangle: ${areaValue}`);"
   ]
  },
  {
   "cell_type": "markdown",
   "id": "325cfec1-ba8e-4278-96af-8f70e5e709f2",
   "metadata": {},
   "source": [
    "## Render arbitrary HTML in the Notebook"
   ]
  },
  {
   "cell_type": "code",
   "execution_count": null,
   "id": "9e4ca80e-43b0-47b4-b127-18b6354e1200",
   "metadata": {},
   "outputs": [],
   "source": [
    "%%html\n",
    "<div style=\"width:100%\">\n",
    "    <div style=\"background-color:cyan; text-align:center; padding: 1px 1px\">\n",
    "        <h4>Cloud Report Template</h4>\n",
    "    </div>\n",
    "    <div style=\"background-color:lightgray; height:400px; width:15%; float:left;\">\n",
    "        <div style=\"margin: 6px 6px;\"><b>Main Menu</b></div>\n",
    "    </div>\n",
    "    <div style=\"background-color:white; height:400px; width:85%; float:left;\">\n",
    "        <div style=\"margin: 10px 10px;\">{CLOUD DATA GOES HERE}</div>\n",
    "    </div>\n",
    "    <div style=\"background-color:cyan; clear:both\">\n",
    "        <center>\n",
    "            Completed On {datetime}\n",
    "        </center>\n",
    "    </div>\n",
    "</div>"
   ]
  },
  {
   "cell_type": "markdown",
   "id": "c405055a-91bb-45de-85ee-ce4a7e788203",
   "metadata": {},
   "source": [
    "## Run a Python file or other notebook file in this Notebook"
   ]
  },
  {
   "cell_type": "code",
   "execution_count": null,
   "id": "937816db-2f36-4e96-936d-4591a577fc9d",
   "metadata": {},
   "outputs": [],
   "source": [
    "%run -i helper/aws.py"
   ]
  }
 ],
 "metadata": {
  "kernelspec": {
   "display_name": "Python 3 (ipykernel)",
   "language": "python",
   "name": "python3"
  },
  "language_info": {
   "codemirror_mode": {
    "name": "ipython",
    "version": 3
   },
   "file_extension": ".py",
   "mimetype": "text/x-python",
   "name": "python",
   "nbconvert_exporter": "python",
   "pygments_lexer": "ipython3",
   "version": "3.10.5"
  }
 },
 "nbformat": 4,
 "nbformat_minor": 5
}
