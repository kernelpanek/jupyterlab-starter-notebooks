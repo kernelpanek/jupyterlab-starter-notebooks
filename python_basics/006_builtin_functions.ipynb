{
 "cells": [
  {
   "cell_type": "markdown",
   "id": "7e2ac776-2cfc-4cb3-8425-16a987c59a03",
   "metadata": {
    "tags": []
   },
   "source": [
    "# [Builtin Functions](https://docs.python.org/3/library/functions.html)"
   ]
  },
  {
   "cell_type": "markdown",
   "id": "53645791-1fe9-421a-9bbd-a29294621a50",
   "metadata": {},
   "source": [
    "### Any and all"
   ]
  },
  {
   "cell_type": "code",
   "execution_count": null,
   "id": "1495267f-97f4-4948-bf79-abec78f81124",
   "metadata": {},
   "outputs": [],
   "source": [
    "numbers = [1,3,5,7,9]\n",
    "\n",
    "# Are there _any_ even numbers in the numbers list?\n",
    "any([x for x in numbers if x % 2 == 0])"
   ]
  },
  {
   "cell_type": "code",
   "execution_count": null,
   "id": "4250b7be-ddf3-4426-b333-c52d6d1b9308",
   "metadata": {},
   "outputs": [],
   "source": [
    "classroom_members = [\"Carly\", \"Frank\", \"Vicky\", \"Patrick\", \"Dan\"]\n",
    "# Do _all_ classroom members have a name that has 5 or more letters in it?\n",
    "all([len(name) >= 5 for name in classroom_members])"
   ]
  },
  {
   "cell_type": "markdown",
   "id": "7ebf4c7b-a60f-47ba-8f07-307d15b4da0f",
   "metadata": {},
   "source": [
    "### Type conversion functions"
   ]
  },
  {
   "cell_type": "code",
   "execution_count": null,
   "id": "9d8900ee-9166-4977-9c6c-02015a606bee",
   "metadata": {},
   "outputs": [],
   "source": [
    "# Convert string to be ASCII formatted\n",
    "ascii(\"Hello!! 😀 👋\")"
   ]
  },
  {
   "cell_type": "code",
   "execution_count": null,
   "id": "83c0a4c1-d198-42ad-a9aa-2d5eceec4f96",
   "metadata": {},
   "outputs": [],
   "source": [
    "#Convert integer to binary\n",
    "bin(45)"
   ]
  },
  {
   "cell_type": "markdown",
   "id": "7dd6becf-eb01-4b4d-afc5-ba0e0adfac7a",
   "metadata": {
    "tags": []
   },
   "source": [
    "### [Truth testing with bool()](https://docs.python.org/3/library/stdtypes.html#truth)"
   ]
  },
  {
   "cell_type": "code",
   "execution_count": null,
   "id": "d8e60e4c-c736-48e8-882a-8aeaab81b32f",
   "metadata": {},
   "outputs": [],
   "source": [
    "bool(0)"
   ]
  },
  {
   "cell_type": "code",
   "execution_count": null,
   "id": "bfa8a2cc-313e-4072-b259-2035e992849d",
   "metadata": {},
   "outputs": [],
   "source": [
    "bool(\"True\")"
   ]
  },
  {
   "cell_type": "code",
   "execution_count": null,
   "id": "278a8530-8f17-401e-ab2e-d1951dee67d4",
   "metadata": {},
   "outputs": [],
   "source": [
    "bool(\"false\")"
   ]
  },
  {
   "cell_type": "code",
   "execution_count": null,
   "id": "15d8a3be-0728-4a13-bc8d-caa0e05b9519",
   "metadata": {},
   "outputs": [],
   "source": [
    "bool(5)"
   ]
  },
  {
   "cell_type": "code",
   "execution_count": null,
   "id": "be1b8d78-2fbb-4bc2-800e-85719bf87c7c",
   "metadata": {},
   "outputs": [],
   "source": [
    "bool([])"
   ]
  },
  {
   "cell_type": "code",
   "execution_count": null,
   "id": "d4abd8bb-2208-471a-bd10-2c9ba17b744b",
   "metadata": {},
   "outputs": [],
   "source": [
    "bool(None)"
   ]
  },
  {
   "cell_type": "code",
   "execution_count": null,
   "id": "98b461bb-0cb4-4394-883c-a2211437a753",
   "metadata": {},
   "outputs": [],
   "source": [
    "bool(\"\")"
   ]
  },
  {
   "cell_type": "markdown",
   "id": "f5b9fc5d-10c9-4266-a117-68085508e0c4",
   "metadata": {},
   "source": [
    "### Bytes"
   ]
  },
  {
   "cell_type": "code",
   "execution_count": null,
   "id": "726c9888-5557-4480-922a-c94450101ab6",
   "metadata": {},
   "outputs": [],
   "source": [
    "bytearray(\"Hello!\".encode(\"utf-8\"))"
   ]
  },
  {
   "cell_type": "code",
   "execution_count": null,
   "id": "7ab9b5a4-f3fa-4d4a-b532-0e0995c69b42",
   "metadata": {},
   "outputs": [],
   "source": [
    "bytes(\"Hello!\".encode(\"utf-8\"))"
   ]
  },
  {
   "cell_type": "markdown",
   "id": "4f0282a2-a69a-4319-95c5-1d08f5bb51eb",
   "metadata": {},
   "source": [
    "### Find `callable()` stuff"
   ]
  },
  {
   "cell_type": "code",
   "execution_count": null,
   "id": "fee706d6-c1d2-42d4-9655-b57c2bfb34e4",
   "metadata": {},
   "outputs": [],
   "source": [
    "a_nondescript_variable = lambda x: x ** 2\n",
    "\n",
    "call_me_maybe = \"I just met you and this is crazy...\"\n",
    "\n",
    "heres_my_number = 8675309\n",
    "\n",
    "def run_this_thing(x):\n",
    "    pass\n",
    "\n",
    "class FancyObject():\n",
    "    pass"
   ]
  },
  {
   "cell_type": "code",
   "execution_count": null,
   "id": "6caccc54-179f-4082-8f81-6c67663c1486",
   "metadata": {},
   "outputs": [],
   "source": [
    "callable(a_nondescript_variable)"
   ]
  },
  {
   "cell_type": "code",
   "execution_count": null,
   "id": "9ad6b2f2-9e1e-41eb-8af9-b4ba583e0ffc",
   "metadata": {},
   "outputs": [],
   "source": [
    "callable(call_me_maybe)"
   ]
  },
  {
   "cell_type": "code",
   "execution_count": null,
   "id": "816eb4de-daa9-4ef5-a7c3-743bfa11530f",
   "metadata": {},
   "outputs": [],
   "source": [
    "callable(heres_my_number)"
   ]
  },
  {
   "cell_type": "code",
   "execution_count": null,
   "id": "34da5d1e-173b-4f18-8479-c1ed0f101697",
   "metadata": {},
   "outputs": [],
   "source": [
    "callable(run_this_thing)"
   ]
  },
  {
   "cell_type": "code",
   "execution_count": null,
   "id": "bc1837fb-0125-435f-969c-5537087b0f11",
   "metadata": {},
   "outputs": [],
   "source": [
    "callable(FancyObject)"
   ]
  },
  {
   "cell_type": "markdown",
   "id": "2998bc43-b51c-42f4-9efd-b5f75248da5a",
   "metadata": {},
   "source": [
    "### Compile, Exec and Eval\n",
    "**Here be dragons!** Think of the security implications of your program accepting arbitrary strings of Python code."
   ]
  },
  {
   "cell_type": "code",
   "execution_count": null,
   "id": "7ba2d343-a6b1-48bf-a1ea-593cc6cdb6c4",
   "metadata": {},
   "outputs": [],
   "source": [
    "some_code_in_a_string = \"\"\"x = 4; print(f\"Hi, my number is {x}\")\"\"\"\n",
    "compiled_obj = compile(some_code_in_a_string, \"noname\", \"exec\")\n",
    "exec(compiled_obj)"
   ]
  },
  {
   "cell_type": "code",
   "execution_count": null,
   "id": "8e39e5be-543c-45a4-a2f2-daab6ebc651d",
   "metadata": {},
   "outputs": [],
   "source": [
    "exec(some_code_in_a_string)"
   ]
  },
  {
   "cell_type": "code",
   "execution_count": null,
   "id": "c246af95-7d15-4eba-930f-fe2a0465eecf",
   "metadata": {},
   "outputs": [],
   "source": [
    "basic_expression = \"(60 // 7) + (60 % 7)\"\n",
    "eval(basic_expression)"
   ]
  },
  {
   "cell_type": "markdown",
   "id": "8465328b-6aec-44a3-8f9d-78be575b4f86",
   "metadata": {},
   "source": [
    "### Dir function"
   ]
  },
  {
   "cell_type": "code",
   "execution_count": null,
   "id": "5923ae83-c9df-469a-a8a9-fdda365a0878",
   "metadata": {
    "tags": []
   },
   "outputs": [],
   "source": [
    "a_dict_obj = dict()\n",
    "dir(a_dict_obj)"
   ]
  },
  {
   "cell_type": "markdown",
   "id": "18fae3c5-643d-4336-8281-31c409bb42f0",
   "metadata": {},
   "source": [
    "### Divmod function"
   ]
  },
  {
   "cell_type": "code",
   "execution_count": null,
   "id": "8e69385f-0ed1-4ea6-b4b5-86a59e9064db",
   "metadata": {},
   "outputs": [],
   "source": [
    "a = 50\n",
    "b = 8\n",
    "divmod(a, b)"
   ]
  },
  {
   "cell_type": "code",
   "execution_count": null,
   "id": "2342db34-4055-42eb-a2fe-23dd41613bf4",
   "metadata": {},
   "outputs": [],
   "source": [
    "# divmod is the same as...\n",
    "(a // b, a % b)"
   ]
  },
  {
   "cell_type": "markdown",
   "id": "c1b9c9f1-5a41-41a3-9a8b-0dc8643cdf5a",
   "metadata": {},
   "source": [
    "### Iter and next"
   ]
  },
  {
   "cell_type": "code",
   "execution_count": null,
   "id": "445e29aa-73ff-4fb0-a143-72bdb52c080b",
   "metadata": {},
   "outputs": [],
   "source": [
    "my_list_of_stuff = [\"Keys\", \"Wallet\", 500, 2.71, None, dict(name=\"Marley\"), set(\"AAAAbbCCCd\")]\n",
    "# Convert list into an iterator\n",
    "stuff_iterator = iter(my_list_of_stuff)"
   ]
  },
  {
   "cell_type": "code",
   "execution_count": null,
   "id": "f3f49775-f77c-42b3-a88f-53548c23257d",
   "metadata": {},
   "outputs": [],
   "source": [
    "next(stuff_iterator)"
   ]
  },
  {
   "cell_type": "code",
   "execution_count": null,
   "id": "f9a98434-055d-46c1-9d7e-2bc8b765b909",
   "metadata": {},
   "outputs": [],
   "source": [
    "next(stuff_iterator)"
   ]
  },
  {
   "cell_type": "code",
   "execution_count": null,
   "id": "72483d99-b2d7-4b2f-9f6c-99667f599690",
   "metadata": {},
   "outputs": [],
   "source": [
    "next(stuff_iterator)"
   ]
  },
  {
   "cell_type": "code",
   "execution_count": null,
   "id": "23218ac7-abb3-4af0-9407-6059ab36f4ea",
   "metadata": {},
   "outputs": [],
   "source": [
    "next(stuff_iterator)"
   ]
  },
  {
   "cell_type": "code",
   "execution_count": null,
   "id": "6ff08b7d-ca7a-48e2-8b24-c04274eef959",
   "metadata": {},
   "outputs": [],
   "source": [
    "next(stuff_iterator)"
   ]
  },
  {
   "cell_type": "code",
   "execution_count": null,
   "id": "1390a703-6eb5-46b5-9478-4229bab219d1",
   "metadata": {},
   "outputs": [],
   "source": [
    "next(stuff_iterator)"
   ]
  },
  {
   "cell_type": "code",
   "execution_count": null,
   "id": "48eff6c1-e847-4f4a-a920-8e0417a4186c",
   "metadata": {},
   "outputs": [],
   "source": [
    "next(stuff_iterator)"
   ]
  },
  {
   "cell_type": "code",
   "execution_count": null,
   "id": "053346c7-6b17-4300-abdd-2e7135f10732",
   "metadata": {},
   "outputs": [],
   "source": [
    "next(stuff_iterator) # Expect an error once you've reached the end"
   ]
  },
  {
   "cell_type": "markdown",
   "id": "f366d6d9-7451-4102-bb1b-857746014759",
   "metadata": {},
   "source": [
    "### Hasattr, getattr, delattr, setattr"
   ]
  },
  {
   "cell_type": "code",
   "execution_count": null,
   "id": "21994adb-bad7-44c2-a443-30c0c789435b",
   "metadata": {},
   "outputs": [],
   "source": [
    "# Create a dictionary object\n",
    "grocery_item = dict(name=\"Bacon\", item_type=\"Meat\", cost=4.99, sku=\"421233219-0014\")"
   ]
  },
  {
   "cell_type": "code",
   "execution_count": null,
   "id": "6655c335-8122-473c-bab0-dede5dc4953f",
   "metadata": {},
   "outputs": [],
   "source": [
    "hasattr(grocery_item, \"store\")"
   ]
  },
  {
   "cell_type": "code",
   "execution_count": null,
   "id": "64cae8b1-9160-4ef3-889c-87051dfed0ea",
   "metadata": {},
   "outputs": [],
   "source": [
    "# A dictionary object has functions like copy, clear, get, keys, items, values, pop, setdefault, update; let's get a function\n",
    "the_grocery_keys_func = getattr(grocery_item, \"keys\")\n",
    "the_grocery_keys_func"
   ]
  },
  {
   "cell_type": "code",
   "execution_count": null,
   "id": "17e7cf9a-272d-4103-884f-a1fac0aff67e",
   "metadata": {},
   "outputs": [],
   "source": [
    "# What can we do with this variable we just created?\n",
    "dir(the_grocery_keys_func)"
   ]
  },
  {
   "cell_type": "code",
   "execution_count": null,
   "id": "73ac27b8-ecf8-4761-b301-0b705c258a70",
   "metadata": {},
   "outputs": [],
   "source": [
    "# Is this variable callable?\n",
    "callable(the_grocery_keys_func)"
   ]
  },
  {
   "cell_type": "code",
   "execution_count": null,
   "id": "2ae3985e-520d-4fe1-8929-9840d6c9ea5f",
   "metadata": {},
   "outputs": [],
   "source": [
    "# It is callable! What will this thing do when we call it?\n",
    "the_grocery_keys_func()"
   ]
  },
  {
   "cell_type": "code",
   "execution_count": null,
   "id": "8170ba7e-14d4-4d9a-b057-05045f688e28",
   "metadata": {},
   "outputs": [],
   "source": [
    "# That's the same thing as if we just did this...\n",
    "grocery_item.keys()"
   ]
  },
  {
   "cell_type": "code",
   "execution_count": null,
   "id": "53cf6317-e497-4af4-b305-7a33369546f7",
   "metadata": {},
   "outputs": [],
   "source": [
    "class GroceryItem():\n",
    "    def __init__(self, **kwargs):\n",
    "        for key, val in kwargs.items():\n",
    "            setattr(self, key, val)\n",
    "\n",
    "my_new_grocery_item = GroceryItem(name=\"Bacon\", cost=5.99, item_type=\"Meat\")"
   ]
  },
  {
   "cell_type": "code",
   "execution_count": null,
   "id": "27ff8642-af31-4950-b0aa-a8998b34b929",
   "metadata": {},
   "outputs": [],
   "source": [
    "my_new_grocery_item.cost"
   ]
  },
  {
   "cell_type": "code",
   "execution_count": null,
   "id": "96cfa0bd-c8e6-4ece-9df8-0451101755d9",
   "metadata": {},
   "outputs": [],
   "source": [
    "my_new_grocery_item.item_type"
   ]
  },
  {
   "cell_type": "code",
   "execution_count": null,
   "id": "0db2608f-82ff-48d3-be72-1a53a5a47bef",
   "metadata": {},
   "outputs": [],
   "source": [
    "# What is that double astrisk notation all about?\n",
    "#    **kwargs ???\n",
    "def print_the_args(**kwargs): \n",
    "    for k, v in kwargs.items():\n",
    "        print(f\"{k=}, {v=}\")  # Using `=` after the variable name will do something nice for us.\n",
    "\n",
    "location = \"Denver, Colorado\"\n",
    "print_the_args(**location) # This will throw a TypeError"
   ]
  },
  {
   "cell_type": "code",
   "execution_count": null,
   "id": "7a3d5a59-3744-4903-8f99-7f39688574e5",
   "metadata": {},
   "outputs": [],
   "source": [
    "# That doesn't work because the `**` notation is for dictionary packing/unpacking;\n",
    "#  it can be used in a function's arguments as a way of specifying\n",
    "#  an arbitrary number of key-value pairs as named parameters and using\n",
    "#  the `**` when calling a function will unpack that dictionary into separate named parameters\n",
    "location = {\"latitude\": 39.7391500, \"longitude\": -104.9847000, \"elevation\": 5280, \"name\": \"Denver, Colorado\"}\n",
    "print_the_args(**location) "
   ]
  },
  {
   "cell_type": "code",
   "execution_count": null,
   "id": "0cc4ae4e-01ac-439e-acb5-b3be3f0ce4cd",
   "metadata": {},
   "outputs": [],
   "source": []
  }
 ],
 "metadata": {
  "kernelspec": {
   "display_name": "Python 3 (ipykernel)",
   "language": "python",
   "name": "python3"
  },
  "language_info": {
   "codemirror_mode": {
    "name": "ipython",
    "version": 3
   },
   "file_extension": ".py",
   "mimetype": "text/x-python",
   "name": "python",
   "nbconvert_exporter": "python",
   "pygments_lexer": "ipython3",
   "version": "3.10.5"
  }
 },
 "nbformat": 4,
 "nbformat_minor": 5
}
