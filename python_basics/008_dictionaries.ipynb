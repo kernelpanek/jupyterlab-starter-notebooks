{
 "cells": [
  {
   "cell_type": "markdown",
   "id": "1a48a38e-f445-4499-a68a-3c0df3ace3bd",
   "metadata": {},
   "source": [
    "# Dictionaries"
   ]
  },
  {
   "cell_type": "markdown",
   "id": "28d91234-386d-477c-844a-83a1c8be6819",
   "metadata": {},
   "source": [
    "### Creating a dictionary from a literal "
   ]
  },
  {
   "cell_type": "code",
   "execution_count": null,
   "id": "99a2b4ba-be50-46de-8830-3261f46f39a3",
   "metadata": {},
   "outputs": [],
   "source": [
    "dict_data_obj_1 = {\n",
    "    \"inventory_id\": \"c6acd34b-aa99-54ea-86a2-67e4e148459a\",\n",
    "    \"location_history\": [\n",
    "        {\"lat\": 39.572800, \"long\": -104.804949},\n",
    "        {\"lat\": 39.832258, \"long\": -86.077079},\n",
    "        {\"lat\": 40.706972, \"long\": -74.012413},\n",
    "    ],\n",
    "    \"item_name\": \"Alarm\",\n",
    "    \"created_on\": \"2022-06-13T18:59:48.371298\",\n",
    "}\n",
    "dict_data_obj_1"
   ]
  },
  {
   "cell_type": "markdown",
   "id": "a93bfa34-c7e6-460b-af77-ad9f3d465cae",
   "metadata": {},
   "source": [
    "### Creating a dictionary from a dict constructor"
   ]
  },
  {
   "cell_type": "code",
   "execution_count": null,
   "id": "6132607d-6b32-43c6-bed2-95c57694a0db",
   "metadata": {},
   "outputs": [],
   "source": [
    "dict_data_obj_2 = dict(\n",
    "    inventory_id=\"c6acd34b-aa99-54ea-86a2-67e4e148459a\",\n",
    "    location_history=[\n",
    "        dict(lat=39.572800, long=-104.804949),\n",
    "        dict(lat=39.832258, long=-86.077079),\n",
    "        dict(lat=40.706972, long=-74.012413),\n",
    "    ],\n",
    "    item_name=\"Alarm\",\n",
    "    created_on=\"2022-06-13T18:59:48.371298\",\n",
    ")\n",
    "dict_data_obj_2"
   ]
  },
  {
   "cell_type": "code",
   "execution_count": null,
   "id": "220212b1-c052-442a-9e70-b85c06ed6a93",
   "metadata": {},
   "outputs": [],
   "source": [
    "sale_data = dict(\n",
    "    transaction=dict(\n",
    "        id=\"66050097-9cca-5064-b27a-c8dd66192920\", timestamp=\"1655147553.01067\"\n",
    "    )\n",
    ")\n",
    "sale_data"
   ]
  },
  {
   "cell_type": "markdown",
   "id": "222bb711-9ca2-4a84-a133-2b9adf35ba09",
   "metadata": {},
   "source": [
    "### Equality of dictionaries"
   ]
  },
  {
   "cell_type": "code",
   "execution_count": null,
   "id": "27ea573c-8497-4003-b912-ae71269ae499",
   "metadata": {},
   "outputs": [],
   "source": [
    "dict_data_obj_1 == dict_data_obj_2"
   ]
  },
  {
   "cell_type": "code",
   "execution_count": null,
   "id": "132a55fb-b40a-4390-8aa8-c62ec6c3d000",
   "metadata": {},
   "outputs": [],
   "source": [
    "dict_data_obj_1 == sale_data"
   ]
  },
  {
   "cell_type": "markdown",
   "id": "f25217b9-f3b1-4abb-bd77-6bf509923c26",
   "metadata": {},
   "source": [
    "### Getting values from a dictionary"
   ]
  },
  {
   "cell_type": "code",
   "execution_count": null,
   "id": "6cf6e69c-814a-4cc7-8f99-71006954082a",
   "metadata": {},
   "outputs": [],
   "source": [
    "# Key lookup with bracket notation\n",
    "dict_data_obj_1[\"inventory_id\"]"
   ]
  },
  {
   "cell_type": "code",
   "execution_count": null,
   "id": "e4d229c4-92a2-4eca-8614-3fded4c93c29",
   "metadata": {},
   "outputs": [],
   "source": [
    "# Key lookup with get function\n",
    "dict_data_obj_1.get(\"inventory_id\")"
   ]
  },
  {
   "cell_type": "code",
   "execution_count": null,
   "id": "7ab7577e-2f4e-4765-b3e1-eebafb5083a2",
   "metadata": {},
   "outputs": [],
   "source": [
    "# The `get()` method of looking up a key is superior to bracket notation, \n",
    "#  consider getting a key that potentially doesn't exist\n",
    "dict_data_obj_1[\"modified_on\"]  # This will error"
   ]
  },
  {
   "cell_type": "code",
   "execution_count": null,
   "id": "b3aa7aab-da83-4d3d-a360-fe0c296172b3",
   "metadata": {},
   "outputs": [],
   "source": [
    "# One can use a conditional to first check for the key, but consider using `get()`...\n",
    "if \"modified_on\" in dict_data_obj_1.keys():\n",
    "    print(dict_data_obj_1[\"modified_on\"])\n",
    "else:\n",
    "    print(\"`modified_on` key does not exist.\")"
   ]
  },
  {
   "cell_type": "code",
   "execution_count": null,
   "id": "8f29be1d-a9cb-4f57-85e7-64ef04327512",
   "metadata": {},
   "outputs": [],
   "source": [
    "# Key lookup with get function\n",
    "dict_data_obj_1.get(\"modified_on\")  # Nicely returns `None` instead of throwing key error"
   ]
  },
  {
   "cell_type": "code",
   "execution_count": null,
   "id": "d269d218-2cdd-4533-ad73-ef1c72f808bd",
   "metadata": {},
   "outputs": [],
   "source": [
    "# Key lookup with get function and setting a default value for `None` condition\n",
    "dict_data_obj_1.get(\"modified_on\", \"1970-01-01T00:00:00.000000\")"
   ]
  },
  {
   "cell_type": "code",
   "execution_count": null,
   "id": "9ad6f975-fd7c-4290-acaa-38da6375cf28",
   "metadata": {},
   "outputs": [],
   "source": [
    "# Iterate over key-value pairs in the dictionary\n",
    "for key, val in dict_data_obj_1.items():\n",
    "    print(f\"{{'{key}': {val}}}\")"
   ]
  },
  {
   "cell_type": "code",
   "execution_count": null,
   "id": "3f6d9b94-e453-4e77-9d27-67a7954b86f3",
   "metadata": {},
   "outputs": [],
   "source": [
    "# Get all values without their keys\n",
    "arbitrary_list_of_values = list(dict_data_obj_1.values())\n",
    "arbitrary_list_of_values"
   ]
  },
  {
   "cell_type": "markdown",
   "id": "6c8aad07-7cd7-4ac3-b021-9cf4a55382fb",
   "metadata": {},
   "source": [
    "### Popping keys out of the dictionary"
   ]
  },
  {
   "cell_type": "code",
   "execution_count": null,
   "id": "1a09f698-0d58-405e-ab09-b4e129741ec7",
   "metadata": {},
   "outputs": [],
   "source": [
    "location_history = dict_data_obj_1.pop(\"location_history\")\n",
    "dict_data_obj_1  # Look at the dictionary after the `pop()`, \"location_history\" is now missing from the object"
   ]
  },
  {
   "cell_type": "markdown",
   "id": "aa29a8d2-e133-48a8-bcd9-492cfa29ad41",
   "metadata": {},
   "source": [
    "### Merging dictionaries together"
   ]
  },
  {
   "cell_type": "code",
   "execution_count": null,
   "id": "95273a9a-74a0-4922-99da-731c9a3f3075",
   "metadata": {},
   "outputs": [],
   "source": [
    "# Using the update function\n",
    "sale_data_new = sale_data.copy()\n",
    "sale_data_new.update(dict_data_obj_2)\n",
    "sale_data_new"
   ]
  },
  {
   "cell_type": "code",
   "execution_count": null,
   "id": "74105f25-9671-4d1e-ba82-4d618def75d5",
   "metadata": {},
   "outputs": [],
   "source": [
    "# Using Item Unpacking\n",
    "sale_data_new = {**sale_data, **dict_data_obj_2}\n",
    "sale_data_new"
   ]
  },
  {
   "cell_type": "code",
   "execution_count": null,
   "id": "b60d6882-9097-4c33-a407-90c378ab0f83",
   "metadata": {},
   "outputs": [],
   "source": [
    "# Using New Merge Operator in Python 3.9+\n",
    "sale_data_new = sale_data | dict_data_obj_2\n",
    "sale_data_new"
   ]
  },
  {
   "cell_type": "markdown",
   "id": "c077b08a-226c-4181-8c91-d1db781661c6",
   "metadata": {},
   "source": [
    "### Restructuring dictionaries"
   ]
  },
  {
   "cell_type": "code",
   "execution_count": null,
   "id": "696c7bd2-9d49-4efb-a932-2d44a0bda11d",
   "metadata": {},
   "outputs": [],
   "source": [
    "# Seperate object by lat/long coordinates\n",
    "dict_data_by_coordinate = {\n",
    "    (ll.get(\"lat\"), ll.get(\"long\")): dict(\n",
    "        inventory_id=dict_data_obj_2.get(\"inventory_id\"),\n",
    "        item_name=dict_data_obj_2.get(\"item_name\"),\n",
    "        created_on=dict_data_obj_2.get(\"created_on\"),\n",
    "    )\n",
    "    for ll in dict_data_obj_2.get(\"location_history\")\n",
    "}\n",
    "dict_data_by_coordinate"
   ]
  }
 ],
 "metadata": {
  "kernelspec": {
   "display_name": "Python 3 (ipykernel)",
   "language": "python",
   "name": "python3"
  },
  "language_info": {
   "codemirror_mode": {
    "name": "ipython",
    "version": 3
   },
   "file_extension": ".py",
   "mimetype": "text/x-python",
   "name": "python",
   "nbconvert_exporter": "python",
   "pygments_lexer": "ipython3",
   "version": "3.10.5"
  }
 },
 "nbformat": 4,
 "nbformat_minor": 5
}
